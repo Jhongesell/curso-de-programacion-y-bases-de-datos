{
  "nbformat": 4,
  "nbformat_minor": 0,
  "metadata": {
    "colab": {
      "name": "Clase_N02_V01_P01.ipynb",
      "provenance": []
    },
    "kernelspec": {
      "name": "python3",
      "display_name": "Python 3"
    }
  },
  "cells": [
    {
      "cell_type": "code",
      "metadata": {
        "id": "6iOQRJuflra0",
        "colab_type": "code",
        "colab": {}
      },
      "source": [
        "import sqlite3\n",
        "\n",
        "from sqlite3 import Error\n",
        "\n",
        "def sql_connection():\n",
        "\n",
        "    try:\n",
        "\n",
        "        con = sqlite3.connect('mydatabase.db')\n",
        "\n",
        "        return con\n",
        "\n",
        "    except Error:\n",
        "\n",
        "        print(Error)\n",
        "\n",
        "def sql_table(con):\n",
        "\n",
        "    cursorObj = con.cursor()\n",
        "\n",
        "    cursorObj.execute(\"CREATE TABLE employees(id integer PRIMARY KEY, name text, salary real, department text, position text, hireDate text)\")\n",
        "\n",
        "    con.commit()\n",
        "\n",
        "con = sql_connection()\n",
        "\n",
        "sql_table(con)"
      ],
      "execution_count": 0,
      "outputs": []
    },
    {
      "cell_type": "code",
      "metadata": {
        "id": "Z5t-Hpz8m9hm",
        "colab_type": "code",
        "colab": {
          "base_uri": "https://localhost:8080/",
          "height": 34
        },
        "outputId": "7a8c58d0-2518-49ad-a7ba-fdf135b9629b"
      },
      "source": [
        "ls"
      ],
      "execution_count": 5,
      "outputs": [
        {
          "output_type": "stream",
          "text": [
            "mydatabase.db  \u001b[0m\u001b[01;34msample_data\u001b[0m/\n"
          ],
          "name": "stdout"
        }
      ]
    },
    {
      "cell_type": "code",
      "metadata": {
        "id": "BpN-UY12w28L",
        "colab_type": "code",
        "colab": {}
      },
      "source": [
        "con = sqlite3.connect('mydatabase.db')\n",
        "\n",
        "def sql_insert(con, entities):\n",
        "\n",
        "    cursorObj = con.cursor()\n",
        "    \n",
        "    cursorObj.execute('INSERT INTO employees(id, name, salary, department, position, hireDate) VALUES(?, ?, ?, ?, ?, ?)', entities)\n",
        "    \n",
        "    con.commit()\n",
        "\n",
        "entities = (2, 'Andrew', 800.5, 'IT', 'Tech', '2018-02-06')\n",
        "\n",
        "sql_insert(con, entities)"
      ],
      "execution_count": 0,
      "outputs": []
    },
    {
      "cell_type": "code",
      "metadata": {
        "id": "P52-Kj4h3MbK",
        "colab_type": "code",
        "colab": {}
      },
      "source": [
        "import sqlite3\n",
        "\n",
        "from sqlite3 import Error\n",
        "\n",
        "def sql_connection():\n",
        "\n",
        "    try:\n",
        "\n",
        "        con = sqlite3.connect('mi_tienda.db')\n",
        "\n",
        "        return con\n",
        "\n",
        "    except Error:\n",
        "\n",
        "        print(Error)\n",
        "\n",
        "def sql_table(con):\n",
        "\n",
        "    cursorObj = con.cursor()\n",
        "\n",
        "    cursorObj.execute(\"CREATE TABLE employees(id integer PRIMARY KEY, nombre text, precio real)\")\n",
        "\n",
        "    con.commit()\n",
        "\n",
        "con = sql_connection()\n",
        "\n",
        "sql_table(con)"
      ],
      "execution_count": 0,
      "outputs": []
    },
    {
      "cell_type": "code",
      "metadata": {
        "id": "m6k_uAEB6RXl",
        "colab_type": "code",
        "colab": {}
      },
      "source": [
        "con = sqlite3.connect('mi_tienda.db')\n",
        "\n",
        "def sql_insert(con, entities):\n",
        "\n",
        "    cursorObj = con.cursor()\n",
        "    \n",
        "    cursorObj.execute('INSERT INTO employees(id, nombre, precio) VALUES(?, ?, ?)', entities)\n",
        "    \n",
        "    con.commit()\n",
        "\n",
        "entities = (3, 'Gaseosa', 10.5)\n",
        "\n",
        "sql_insert(con, entities)"
      ],
      "execution_count": 0,
      "outputs": []
    },
    {
      "cell_type": "code",
      "metadata": {
        "id": "zo3XvT9T6rux",
        "colab_type": "code",
        "colab": {}
      },
      "source": [
        ""
      ],
      "execution_count": 0,
      "outputs": []
    }
  ]
}